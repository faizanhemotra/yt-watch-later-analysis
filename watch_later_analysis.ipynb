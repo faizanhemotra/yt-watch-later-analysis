{
  "nbformat": 4,
  "nbformat_minor": 0,
  "metadata": {
    "colab": {
      "provenance": [],
      "gpuType": "T4",
      "authorship_tag": "ABX9TyP/KcD4wfIeHlTysqjO2Lru",
      "include_colab_link": true
    },
    "kernelspec": {
      "name": "python3",
      "display_name": "Python 3"
    },
    "language_info": {
      "name": "python"
    },
    "accelerator": "GPU"
  },
  "cells": [
    {
      "cell_type": "markdown",
      "metadata": {
        "id": "view-in-github",
        "colab_type": "text"
      },
      "source": [
        "<a href=\"https://colab.research.google.com/github/faizanhemotra/yt-watch-later-analysis/blob/main/watch_later_analysis.ipynb\" target=\"_parent\"><img src=\"https://colab.research.google.com/assets/colab-badge.svg\" alt=\"Open In Colab\"/></a>"
      ]
    },
    {
      "cell_type": "markdown",
      "source": [
        "* Background: I've amassed >2000 videos in my YouTube's Watch Later Playlist (was even higher but moved many 🐱 videos to dedicated playlist(s)).\n",
        "* Task: Analyse which videos are more likely to get added to the watch later playlist.\n",
        "    * The outcome of this would be to reduce information overload.\n",
        "* Plan:\n",
        "    * Scrape YouTube and get a list. (Done)\n",
        "    * Plot videos by channel. (Done)\n",
        "    * List potential fields for analysis. (Done)\n",
        "    * Find Similarity between videos by title. (Done)\n",
        "        *  Investigate false positives and check how video descriptions can be used to reduce it. (Pending)\n",
        "    * Assign granular categories based on similarities (manual process?). (Pending)\n",
        "    * Choose a random video on the home page and assign the category. (Pending)\n",
        "        * Check how likely it would be added to the watch later. (Pending)"
      ],
      "metadata": {
        "id": "J6sVPJXSkMkX"
      }
    },
    {
      "cell_type": "markdown",
      "source": [
        "### Scraping Guide\n",
        "- Pre-requisites\n",
        "1. [yt-dlp](https://github.com/yt-dlp/yt-dlp) for scraping\n",
        "2. [PhantomJS](https://phantomjs.org/) [refer to yt-dlp docs for more info]\n",
        "3. [jq](https://jqlang.github.io/jq/) for post-processing\n",
        "4. Login to a browser with your credentials (I logged in to my brave browser)\n",
        "- The fastest way is to use the flat-playlist flag:\n",
        "    ```bat\n",
        "    yt-dlp --cookies-from-browser brave --flat-playlist --output-na-placeholder \"\" --print-to-file %(title)#S,%(url)q,%(channel)#S,%(channel_url)q,%(duration)d,%(duration_string)q,%(view_count)d export-user-wl.csv https://www.youtube.com/playlist?list=WL\n",
        "    ```\n",
        "    - The obvious limitation is that you can't get tags and categories which are nested. You can use the json dump and the process it:\n",
        "        ```bat\n",
        "        yt-dlp --cookies-from-browser brave --no-flat-playlist --dump-json https://www.youtube.com/playlist?list=WL | jq --slurp \"[.[] | {title: .title, webpage_url: .webpage_url, description: .description, uploader: .uploader, channel_url: .channel_url, duration: .duration, duration_string: .duration_string, view_count: .view_count, age_limit: .age_limit, categories: .categories, tags: .tags, availability: .availability}]\" > filtered_wl_dump.json\n",
        "        ```\n",
        "\n",
        "- Appendix\n",
        "    1. get raw_dump\n",
        "    ```bat\n",
        "    yt-dlp --cookies-from-browser brave --no-flat-playlist --dump-json https://www.youtube.com/playlist?list=WL > full_wl_dump.json\n",
        "    ```\n",
        "    2. post-process json dump\n",
        "    ```bat\n",
        "    jq --slurp \"[.[] | {title: .title, webpage_url: .webpage_url, description: .description, uploader: .uploader, channel_url: .channel_url, duration: .duration, duration_string: .duration_string, view_count: .view_count, age_limit: .age_limit, categories: .categories, tags: .tags, availability: .availability}]\" full_wl_dump.json > filtered_wl_dump.json\n",
        "    ```\n"
      ],
      "metadata": {
        "id": "-bMK3YL_a6TB"
      }
    },
    {
      "cell_type": "markdown",
      "source": [
        "## Exploratory Analysis"
      ],
      "metadata": {
        "id": "X5v1a6PcgwLu"
      }
    },
    {
      "cell_type": "markdown",
      "source": [
        "### Imports"
      ],
      "metadata": {
        "id": "ttvUhLa3heES"
      }
    },
    {
      "cell_type": "code",
      "execution_count": 1,
      "metadata": {
        "id": "Re70lghbcWtB"
      },
      "outputs": [],
      "source": [
        "import nltk\n",
        "import numpy as np\n",
        "import pandas as pd\n",
        "import plotly.express as px\n",
        "import string\n",
        "import torch\n",
        "\n",
        "from sklearn.metrics.pairwise import cosine_similarity\n",
        "from transformers import (\n",
        "    AutoTokenizer,\n",
        "    AutoModel,\n",
        "    PreTrainedTokenizer,\n",
        "    PreTrainedModel\n",
        "    )\n",
        "from tqdm import tqdm\n",
        "from typing import (\n",
        "    Iterable,\n",
        "    List,\n",
        "    TypeAlias\n",
        "    )\n",
        "\n",
        "# Type hints\n",
        "PandasSeries: TypeAlias = pd.Series\n",
        "PandasDataFrame: TypeAlias = pd.DataFrame"
      ]
    },
    {
      "cell_type": "code",
      "source": [
        "pip install transformers"
      ],
      "metadata": {
        "colab": {
          "base_uri": "https://localhost:8080/"
        },
        "id": "w0IXMKSRdm71",
        "outputId": "d5d3e33a-5417-4c4f-eda6-207ae23e8fd0"
      },
      "execution_count": 3,
      "outputs": [
        {
          "output_type": "stream",
          "name": "stdout",
          "text": [
            "Looking in indexes: https://pypi.org/simple, https://us-python.pkg.dev/colab-wheels/public/simple/\n",
            "Requirement already satisfied: transformers in /usr/local/lib/python3.10/dist-packages (4.30.2)\n",
            "Requirement already satisfied: filelock in /usr/local/lib/python3.10/dist-packages (from transformers) (3.12.0)\n",
            "Requirement already satisfied: huggingface-hub<1.0,>=0.14.1 in /usr/local/lib/python3.10/dist-packages (from transformers) (0.15.1)\n",
            "Requirement already satisfied: numpy>=1.17 in /usr/local/lib/python3.10/dist-packages (from transformers) (1.22.4)\n",
            "Requirement already satisfied: packaging>=20.0 in /usr/local/lib/python3.10/dist-packages (from transformers) (23.1)\n",
            "Requirement already satisfied: pyyaml>=5.1 in /usr/local/lib/python3.10/dist-packages (from transformers) (6.0)\n",
            "Requirement already satisfied: regex!=2019.12.17 in /usr/local/lib/python3.10/dist-packages (from transformers) (2022.10.31)\n",
            "Requirement already satisfied: requests in /usr/local/lib/python3.10/dist-packages (from transformers) (2.27.1)\n",
            "Requirement already satisfied: tokenizers!=0.11.3,<0.14,>=0.11.1 in /usr/local/lib/python3.10/dist-packages (from transformers) (0.13.3)\n",
            "Requirement already satisfied: safetensors>=0.3.1 in /usr/local/lib/python3.10/dist-packages (from transformers) (0.3.1)\n",
            "Requirement already satisfied: tqdm>=4.27 in /usr/local/lib/python3.10/dist-packages (from transformers) (4.65.0)\n",
            "Requirement already satisfied: fsspec in /usr/local/lib/python3.10/dist-packages (from huggingface-hub<1.0,>=0.14.1->transformers) (2023.4.0)\n",
            "Requirement already satisfied: typing-extensions>=3.7.4.3 in /usr/local/lib/python3.10/dist-packages (from huggingface-hub<1.0,>=0.14.1->transformers) (4.5.0)\n",
            "Requirement already satisfied: urllib3<1.27,>=1.21.1 in /usr/local/lib/python3.10/dist-packages (from requests->transformers) (1.26.15)\n",
            "Requirement already satisfied: certifi>=2017.4.17 in /usr/local/lib/python3.10/dist-packages (from requests->transformers) (2022.12.7)\n",
            "Requirement already satisfied: charset-normalizer~=2.0.0 in /usr/local/lib/python3.10/dist-packages (from requests->transformers) (2.0.12)\n",
            "Requirement already satisfied: idna<4,>=2.5 in /usr/local/lib/python3.10/dist-packages (from requests->transformers) (3.4)\n"
          ]
        }
      ]
    },
    {
      "cell_type": "code",
      "source": [
        "nltk.download('stopwords')"
      ],
      "metadata": {
        "colab": {
          "base_uri": "https://localhost:8080/"
        },
        "id": "wkn-DrApqXBL",
        "outputId": "b2f9ada6-3f03-4ebd-d640-0a8530f03558"
      },
      "execution_count": 2,
      "outputs": [
        {
          "output_type": "stream",
          "name": "stderr",
          "text": [
            "[nltk_data] Downloading package stopwords to /root/nltk_data...\n",
            "[nltk_data]   Package stopwords is already up-to-date!\n"
          ]
        },
        {
          "output_type": "execute_result",
          "data": {
            "text/plain": [
              "True"
            ]
          },
          "metadata": {},
          "execution_count": 2
        }
      ]
    },
    {
      "cell_type": "code",
      "source": [
        "df = pd.read_json('filtered_wl_dump.json')"
      ],
      "metadata": {
        "id": "_JsX9-us1d9i"
      },
      "execution_count": 5,
      "outputs": []
    },
    {
      "cell_type": "code",
      "source": [
        "df.shape, df.dtypes"
      ],
      "metadata": {
        "colab": {
          "base_uri": "https://localhost:8080/"
        },
        "id": "AsfKamSUchl5",
        "outputId": "79f85fc2-eb4a-4a60-9304-05f3059af6d2"
      },
      "execution_count": 6,
      "outputs": [
        {
          "output_type": "execute_result",
          "data": {
            "text/plain": [
              "((2386, 12),\n",
              " title              object\n",
              " webpage_url        object\n",
              " description        object\n",
              " uploader           object\n",
              " channel_url        object\n",
              " duration            int64\n",
              " duration_string    object\n",
              " view_count          int64\n",
              " age_limit           int64\n",
              " categories         object\n",
              " tags               object\n",
              " availability       object\n",
              " dtype: object)"
            ]
          },
          "metadata": {},
          "execution_count": 6
        }
      ]
    },
    {
      "cell_type": "code",
      "source": [
        "# drop duplicate videos from the playlist\n",
        "df = df.drop_duplicates(subset=['webpage_url'])"
      ],
      "metadata": {
        "id": "5IG3IDB4KEj7"
      },
      "execution_count": 7,
      "outputs": []
    },
    {
      "cell_type": "code",
      "source": [
        "# Should've watched News & Politics when the videos were uploaded.\n",
        "# I think I've got a few cat videos in watch later as well, needs a dedicated playlist :)\n",
        "df['categories'].explode().value_counts()"
      ],
      "metadata": {
        "colab": {
          "base_uri": "https://localhost:8080/"
        },
        "id": "RflkIfgPPGuB",
        "outputId": "0a9e5b04-1505-465a-a41f-9652cd47c68a"
      },
      "execution_count": 9,
      "outputs": [
        {
          "output_type": "execute_result",
          "data": {
            "text/plain": [
              "Education                846\n",
              "Science & Technology     426\n",
              "Entertainment            318\n",
              "News & Politics          209\n",
              "People & Blogs           151\n",
              "Howto & Style            118\n",
              "Gaming                   106\n",
              "Comedy                    88\n",
              "Film & Animation          42\n",
              "Travel & Events           34\n",
              "Nonprofits & Activism     17\n",
              "Music                     13\n",
              "Sports                     7\n",
              "Autos & Vehicles           6\n",
              "Pets & Animals             5\n",
              "Name: categories, dtype: int64"
            ]
          },
          "metadata": {},
          "execution_count": 9
        }
      ]
    },
    {
      "cell_type": "code",
      "source": [
        "df_public = df.query('availability==\"public\"')\n",
        "MIN_VIDEOS = 5\n",
        "df_public_most_frequent = df_public[df_public.groupby('uploader')['uploader'].transform('size') > MIN_VIDEOS]\n",
        "\n",
        "# Channels with more than five videos added to watch later make up the significant amount (~50%)\n",
        "# So, we'll only consider those for analysis\n",
        "df_public_most_frequent_counts = (\n",
        "    df_public_most_frequent['uploader']\n",
        "    .value_counts().reset_index()\n",
        "    )\n",
        "df_public_most_frequent_counts['uploader'].sum()"
      ],
      "metadata": {
        "colab": {
          "base_uri": "https://localhost:8080/"
        },
        "id": "oXGRbxVOH7nX",
        "outputId": "ae1e27a0-99a6-46b1-c87b-8f40a98f3cb9"
      },
      "execution_count": 10,
      "outputs": [
        {
          "output_type": "execute_result",
          "data": {
            "text/plain": [
              "1131"
            ]
          },
          "metadata": {},
          "execution_count": 10
        }
      ]
    },
    {
      "cell_type": "markdown",
      "source": [
        "### Some plots"
      ],
      "metadata": {
        "id": "2jRNlyE8fGQR"
      }
    },
    {
      "cell_type": "code",
      "source": [
        "# Plot to see which channels have the most videos added to watch later.\n",
        "channel_counts = (\n",
        "    df_public_most_frequent_counts\n",
        "    .rename(columns={'index': 'Channel', 'uploader': 'Videos'})\n",
        "    )\n",
        "fig = px.bar(channel_counts, x='Channel', y='Videos')\n",
        "fig.update_layout(bargap=0.2)\n",
        "fig.show()"
      ],
      "metadata": {
        "colab": {
          "base_uri": "https://localhost:8080/",
          "height": 542
        },
        "id": "qrPKLYxHg77t",
        "outputId": "efaf2e86-babe-4c35-b7e6-6d69d0d52796"
      },
      "execution_count": 11,
      "outputs": [
        {
          "output_type": "display_data",
          "data": {
            "text/html": [
              "<html>\n",
              "<head><meta charset=\"utf-8\" /></head>\n",
              "<body>\n",
              "    <div>            <script src=\"https://cdnjs.cloudflare.com/ajax/libs/mathjax/2.7.5/MathJax.js?config=TeX-AMS-MML_SVG\"></script><script type=\"text/javascript\">if (window.MathJax && window.MathJax.Hub && window.MathJax.Hub.Config) {window.MathJax.Hub.Config({SVG: {font: \"STIX-Web\"}});}</script>                <script type=\"text/javascript\">window.PlotlyConfig = {MathJaxConfig: 'local'};</script>\n",
              "        <script src=\"https://cdn.plot.ly/plotly-2.18.2.min.js\"></script>                <div id=\"8a9a6c1c-aaba-4091-98b1-425613211f83\" class=\"plotly-graph-div\" style=\"height:525px; width:100%;\"></div>            <script type=\"text/javascript\">                                    window.PLOTLYENV=window.PLOTLYENV || {};                                    if (document.getElementById(\"8a9a6c1c-aaba-4091-98b1-425613211f83\")) {                    Plotly.newPlot(                        \"8a9a6c1c-aaba-4091-98b1-425613211f83\",                        [{\"alignmentgroup\":\"True\",\"hovertemplate\":\"Channel=%{x}<br>Videos=%{y}<extra></extra>\",\"legendgroup\":\"\",\"marker\":{\"color\":\"#636efa\",\"pattern\":{\"shape\":\"\"}},\"name\":\"\",\"offsetgroup\":\"\",\"orientation\":\"v\",\"showlegend\":false,\"textposition\":\"auto\",\"x\":[\"RealLifeLore\",\"TED-Ed\",\"ColdFusion\",\"Veritasium\",\"Half as Interesting\",\"Tom Scott\",\"Insider Business\",\"Adam Ragusea\",\"Linus Tech Tips\",\"LADbible TV\",\"Wendover Productions\",\"Doctor Mike\",\"Charisma on Command\",\"Be Smart\",\"Big Think\",\"Institute of Human Anatomy\",\"SciShow\",\"Wisecrack\",\"Johnny Harris\",\"Mental Outlaw\",\"WIRED\",\"VICE News\",\"PolyMatter\",\"SomeOrdinaryGamers\",\"CaspianReport\",\"VICE\",\"Steve Mould\",\"Vox\",\"penguinz0\",\"Techquickie\",\"Joe Scott\",\"BBC News\",\"TEDx Talks\",\"VisualPolitik EN\",\"MeaningfulMoney\",\"Economics Explained\",\"Matt D'Avella\",\"ETJ English\",\"Dr. Eric Berg DC\",\"Stand-up Maths\",\"Dhruv Rathee\",\"Good Mythical Morning\",\"Numberphile\",\"Computerphile\",\"Vsauce\",\"Databricks\",\"Andrew Huberman\",\"Alex O'Connor\",\"Two Minute Papers\",\"Digital Foundry\",\"What I've Learned\",\"PBS Space Time\",\"DW Documentary\",\"AsapSCIENCE\",\"Biographics\",\"Weird History\",\"Ethan Chlebowski\",\"Gary Explains\",\"Bob & Brad\",\"Kyle Hill\",\"Kurzgesagt \\u2013 In a Nutshell\",\"Langfocus\",\"Sciencephile the AI\",\"Seytonic\",\"ETA PRIME\",\"Whang!\",\"wavywebsurf\",\"Adam Something\",\"Interesting Engineering\",\"Asian Boss\",\"Dave's Garage\",\"PyData\",\"SmarterEveryDay\",\"Casual Navigation\",\"HasanAbi\",\"Modern Vintage Gamer\",\"PBS Eons\",\"Vsauce2\",\"The Action Lab\",\"Nerdwriter1\",\"Technology Connections\",\"StarTalk\",\"Fascinating Horror\",\"Brew\",\"Solar Sands\",\"BioArk\",\"Daily Dose Of Internet\",\"Gentleman's Gazette\",\"Real Engineering\"],\"xaxis\":\"x\",\"y\":[45,45,34,33,30,29,25,24,22,20,20,19,19,19,19,19,18,18,18,17,17,17,15,15,15,15,13,13,12,12,12,12,12,11,11,11,11,11,10,10,10,10,10,10,10,10,10,10,10,9,9,9,9,9,9,9,9,9,8,8,8,8,8,8,8,8,8,7,7,7,7,7,7,7,7,6,6,6,6,6,6,6,6,6,6,6,6,6,6],\"yaxis\":\"y\",\"type\":\"bar\"}],                        {\"template\":{\"data\":{\"histogram2dcontour\":[{\"type\":\"histogram2dcontour\",\"colorbar\":{\"outlinewidth\":0,\"ticks\":\"\"},\"colorscale\":[[0.0,\"#0d0887\"],[0.1111111111111111,\"#46039f\"],[0.2222222222222222,\"#7201a8\"],[0.3333333333333333,\"#9c179e\"],[0.4444444444444444,\"#bd3786\"],[0.5555555555555556,\"#d8576b\"],[0.6666666666666666,\"#ed7953\"],[0.7777777777777778,\"#fb9f3a\"],[0.8888888888888888,\"#fdca26\"],[1.0,\"#f0f921\"]]}],\"choropleth\":[{\"type\":\"choropleth\",\"colorbar\":{\"outlinewidth\":0,\"ticks\":\"\"}}],\"histogram2d\":[{\"type\":\"histogram2d\",\"colorbar\":{\"outlinewidth\":0,\"ticks\":\"\"},\"colorscale\":[[0.0,\"#0d0887\"],[0.1111111111111111,\"#46039f\"],[0.2222222222222222,\"#7201a8\"],[0.3333333333333333,\"#9c179e\"],[0.4444444444444444,\"#bd3786\"],[0.5555555555555556,\"#d8576b\"],[0.6666666666666666,\"#ed7953\"],[0.7777777777777778,\"#fb9f3a\"],[0.8888888888888888,\"#fdca26\"],[1.0,\"#f0f921\"]]}],\"heatmap\":[{\"type\":\"heatmap\",\"colorbar\":{\"outlinewidth\":0,\"ticks\":\"\"},\"colorscale\":[[0.0,\"#0d0887\"],[0.1111111111111111,\"#46039f\"],[0.2222222222222222,\"#7201a8\"],[0.3333333333333333,\"#9c179e\"],[0.4444444444444444,\"#bd3786\"],[0.5555555555555556,\"#d8576b\"],[0.6666666666666666,\"#ed7953\"],[0.7777777777777778,\"#fb9f3a\"],[0.8888888888888888,\"#fdca26\"],[1.0,\"#f0f921\"]]}],\"heatmapgl\":[{\"type\":\"heatmapgl\",\"colorbar\":{\"outlinewidth\":0,\"ticks\":\"\"},\"colorscale\":[[0.0,\"#0d0887\"],[0.1111111111111111,\"#46039f\"],[0.2222222222222222,\"#7201a8\"],[0.3333333333333333,\"#9c179e\"],[0.4444444444444444,\"#bd3786\"],[0.5555555555555556,\"#d8576b\"],[0.6666666666666666,\"#ed7953\"],[0.7777777777777778,\"#fb9f3a\"],[0.8888888888888888,\"#fdca26\"],[1.0,\"#f0f921\"]]}],\"contourcarpet\":[{\"type\":\"contourcarpet\",\"colorbar\":{\"outlinewidth\":0,\"ticks\":\"\"}}],\"contour\":[{\"type\":\"contour\",\"colorbar\":{\"outlinewidth\":0,\"ticks\":\"\"},\"colorscale\":[[0.0,\"#0d0887\"],[0.1111111111111111,\"#46039f\"],[0.2222222222222222,\"#7201a8\"],[0.3333333333333333,\"#9c179e\"],[0.4444444444444444,\"#bd3786\"],[0.5555555555555556,\"#d8576b\"],[0.6666666666666666,\"#ed7953\"],[0.7777777777777778,\"#fb9f3a\"],[0.8888888888888888,\"#fdca26\"],[1.0,\"#f0f921\"]]}],\"surface\":[{\"type\":\"surface\",\"colorbar\":{\"outlinewidth\":0,\"ticks\":\"\"},\"colorscale\":[[0.0,\"#0d0887\"],[0.1111111111111111,\"#46039f\"],[0.2222222222222222,\"#7201a8\"],[0.3333333333333333,\"#9c179e\"],[0.4444444444444444,\"#bd3786\"],[0.5555555555555556,\"#d8576b\"],[0.6666666666666666,\"#ed7953\"],[0.7777777777777778,\"#fb9f3a\"],[0.8888888888888888,\"#fdca26\"],[1.0,\"#f0f921\"]]}],\"mesh3d\":[{\"type\":\"mesh3d\",\"colorbar\":{\"outlinewidth\":0,\"ticks\":\"\"}}],\"scatter\":[{\"fillpattern\":{\"fillmode\":\"overlay\",\"size\":10,\"solidity\":0.2},\"type\":\"scatter\"}],\"parcoords\":[{\"type\":\"parcoords\",\"line\":{\"colorbar\":{\"outlinewidth\":0,\"ticks\":\"\"}}}],\"scatterpolargl\":[{\"type\":\"scatterpolargl\",\"marker\":{\"colorbar\":{\"outlinewidth\":0,\"ticks\":\"\"}}}],\"bar\":[{\"error_x\":{\"color\":\"#2a3f5f\"},\"error_y\":{\"color\":\"#2a3f5f\"},\"marker\":{\"line\":{\"color\":\"#E5ECF6\",\"width\":0.5},\"pattern\":{\"fillmode\":\"overlay\",\"size\":10,\"solidity\":0.2}},\"type\":\"bar\"}],\"scattergeo\":[{\"type\":\"scattergeo\",\"marker\":{\"colorbar\":{\"outlinewidth\":0,\"ticks\":\"\"}}}],\"scatterpolar\":[{\"type\":\"scatterpolar\",\"marker\":{\"colorbar\":{\"outlinewidth\":0,\"ticks\":\"\"}}}],\"histogram\":[{\"marker\":{\"pattern\":{\"fillmode\":\"overlay\",\"size\":10,\"solidity\":0.2}},\"type\":\"histogram\"}],\"scattergl\":[{\"type\":\"scattergl\",\"marker\":{\"colorbar\":{\"outlinewidth\":0,\"ticks\":\"\"}}}],\"scatter3d\":[{\"type\":\"scatter3d\",\"line\":{\"colorbar\":{\"outlinewidth\":0,\"ticks\":\"\"}},\"marker\":{\"colorbar\":{\"outlinewidth\":0,\"ticks\":\"\"}}}],\"scattermapbox\":[{\"type\":\"scattermapbox\",\"marker\":{\"colorbar\":{\"outlinewidth\":0,\"ticks\":\"\"}}}],\"scatterternary\":[{\"type\":\"scatterternary\",\"marker\":{\"colorbar\":{\"outlinewidth\":0,\"ticks\":\"\"}}}],\"scattercarpet\":[{\"type\":\"scattercarpet\",\"marker\":{\"colorbar\":{\"outlinewidth\":0,\"ticks\":\"\"}}}],\"carpet\":[{\"aaxis\":{\"endlinecolor\":\"#2a3f5f\",\"gridcolor\":\"white\",\"linecolor\":\"white\",\"minorgridcolor\":\"white\",\"startlinecolor\":\"#2a3f5f\"},\"baxis\":{\"endlinecolor\":\"#2a3f5f\",\"gridcolor\":\"white\",\"linecolor\":\"white\",\"minorgridcolor\":\"white\",\"startlinecolor\":\"#2a3f5f\"},\"type\":\"carpet\"}],\"table\":[{\"cells\":{\"fill\":{\"color\":\"#EBF0F8\"},\"line\":{\"color\":\"white\"}},\"header\":{\"fill\":{\"color\":\"#C8D4E3\"},\"line\":{\"color\":\"white\"}},\"type\":\"table\"}],\"barpolar\":[{\"marker\":{\"line\":{\"color\":\"#E5ECF6\",\"width\":0.5},\"pattern\":{\"fillmode\":\"overlay\",\"size\":10,\"solidity\":0.2}},\"type\":\"barpolar\"}],\"pie\":[{\"automargin\":true,\"type\":\"pie\"}]},\"layout\":{\"autotypenumbers\":\"strict\",\"colorway\":[\"#636efa\",\"#EF553B\",\"#00cc96\",\"#ab63fa\",\"#FFA15A\",\"#19d3f3\",\"#FF6692\",\"#B6E880\",\"#FF97FF\",\"#FECB52\"],\"font\":{\"color\":\"#2a3f5f\"},\"hovermode\":\"closest\",\"hoverlabel\":{\"align\":\"left\"},\"paper_bgcolor\":\"white\",\"plot_bgcolor\":\"#E5ECF6\",\"polar\":{\"bgcolor\":\"#E5ECF6\",\"angularaxis\":{\"gridcolor\":\"white\",\"linecolor\":\"white\",\"ticks\":\"\"},\"radialaxis\":{\"gridcolor\":\"white\",\"linecolor\":\"white\",\"ticks\":\"\"}},\"ternary\":{\"bgcolor\":\"#E5ECF6\",\"aaxis\":{\"gridcolor\":\"white\",\"linecolor\":\"white\",\"ticks\":\"\"},\"baxis\":{\"gridcolor\":\"white\",\"linecolor\":\"white\",\"ticks\":\"\"},\"caxis\":{\"gridcolor\":\"white\",\"linecolor\":\"white\",\"ticks\":\"\"}},\"coloraxis\":{\"colorbar\":{\"outlinewidth\":0,\"ticks\":\"\"}},\"colorscale\":{\"sequential\":[[0.0,\"#0d0887\"],[0.1111111111111111,\"#46039f\"],[0.2222222222222222,\"#7201a8\"],[0.3333333333333333,\"#9c179e\"],[0.4444444444444444,\"#bd3786\"],[0.5555555555555556,\"#d8576b\"],[0.6666666666666666,\"#ed7953\"],[0.7777777777777778,\"#fb9f3a\"],[0.8888888888888888,\"#fdca26\"],[1.0,\"#f0f921\"]],\"sequentialminus\":[[0.0,\"#0d0887\"],[0.1111111111111111,\"#46039f\"],[0.2222222222222222,\"#7201a8\"],[0.3333333333333333,\"#9c179e\"],[0.4444444444444444,\"#bd3786\"],[0.5555555555555556,\"#d8576b\"],[0.6666666666666666,\"#ed7953\"],[0.7777777777777778,\"#fb9f3a\"],[0.8888888888888888,\"#fdca26\"],[1.0,\"#f0f921\"]],\"diverging\":[[0,\"#8e0152\"],[0.1,\"#c51b7d\"],[0.2,\"#de77ae\"],[0.3,\"#f1b6da\"],[0.4,\"#fde0ef\"],[0.5,\"#f7f7f7\"],[0.6,\"#e6f5d0\"],[0.7,\"#b8e186\"],[0.8,\"#7fbc41\"],[0.9,\"#4d9221\"],[1,\"#276419\"]]},\"xaxis\":{\"gridcolor\":\"white\",\"linecolor\":\"white\",\"ticks\":\"\",\"title\":{\"standoff\":15},\"zerolinecolor\":\"white\",\"automargin\":true,\"zerolinewidth\":2},\"yaxis\":{\"gridcolor\":\"white\",\"linecolor\":\"white\",\"ticks\":\"\",\"title\":{\"standoff\":15},\"zerolinecolor\":\"white\",\"automargin\":true,\"zerolinewidth\":2},\"scene\":{\"xaxis\":{\"backgroundcolor\":\"#E5ECF6\",\"gridcolor\":\"white\",\"linecolor\":\"white\",\"showbackground\":true,\"ticks\":\"\",\"zerolinecolor\":\"white\",\"gridwidth\":2},\"yaxis\":{\"backgroundcolor\":\"#E5ECF6\",\"gridcolor\":\"white\",\"linecolor\":\"white\",\"showbackground\":true,\"ticks\":\"\",\"zerolinecolor\":\"white\",\"gridwidth\":2},\"zaxis\":{\"backgroundcolor\":\"#E5ECF6\",\"gridcolor\":\"white\",\"linecolor\":\"white\",\"showbackground\":true,\"ticks\":\"\",\"zerolinecolor\":\"white\",\"gridwidth\":2}},\"shapedefaults\":{\"line\":{\"color\":\"#2a3f5f\"}},\"annotationdefaults\":{\"arrowcolor\":\"#2a3f5f\",\"arrowhead\":0,\"arrowwidth\":1},\"geo\":{\"bgcolor\":\"white\",\"landcolor\":\"#E5ECF6\",\"subunitcolor\":\"white\",\"showland\":true,\"showlakes\":true,\"lakecolor\":\"white\"},\"title\":{\"x\":0.05},\"mapbox\":{\"style\":\"light\"}}},\"xaxis\":{\"anchor\":\"y\",\"domain\":[0.0,1.0],\"title\":{\"text\":\"Channel\"}},\"yaxis\":{\"anchor\":\"x\",\"domain\":[0.0,1.0],\"title\":{\"text\":\"Videos\"}},\"legend\":{\"tracegroupgap\":0},\"margin\":{\"t\":60},\"barmode\":\"relative\",\"bargap\":0.2},                        {\"responsive\": true}                    ).then(function(){\n",
              "                            \n",
              "var gd = document.getElementById('8a9a6c1c-aaba-4091-98b1-425613211f83');\n",
              "var x = new MutationObserver(function (mutations, observer) {{\n",
              "        var display = window.getComputedStyle(gd).display;\n",
              "        if (!display || display === 'none') {{\n",
              "            console.log([gd, 'removed!']);\n",
              "            Plotly.purge(gd);\n",
              "            observer.disconnect();\n",
              "        }}\n",
              "}});\n",
              "\n",
              "// Listen for the removal of the full notebook cells\n",
              "var notebookContainer = gd.closest('#notebook-container');\n",
              "if (notebookContainer) {{\n",
              "    x.observe(notebookContainer, {childList: true});\n",
              "}}\n",
              "\n",
              "// Listen for the clearing of the current output cell\n",
              "var outputEl = gd.closest('.output');\n",
              "if (outputEl) {{\n",
              "    x.observe(outputEl, {childList: true});\n",
              "}}\n",
              "\n",
              "                        })                };                            </script>        </div>\n",
              "</body>\n",
              "</html>"
            ]
          },
          "metadata": {}
        }
      ]
    },
    {
      "cell_type": "code",
      "source": [
        "# Let's inspect most frequent tags (>10)\n",
        "# Surprised that there are so many history tags. Seems to be from a single channel.\n",
        "fig = px.bar(df_public_most_frequent['tags'].explode().value_counts().reset_index().query('tags>10'), x='index', y='tags')\n",
        "fig.update_layout(bargap=0.2)\n",
        "fig.show()"
      ],
      "metadata": {
        "colab": {
          "base_uri": "https://localhost:8080/",
          "height": 542
        },
        "id": "SKC4Yhgcg_7z",
        "outputId": "ca6f1793-934c-47d1-c18f-f253ff32d9c9"
      },
      "execution_count": 12,
      "outputs": [
        {
          "output_type": "display_data",
          "data": {
            "text/html": [
              "<html>\n",
              "<head><meta charset=\"utf-8\" /></head>\n",
              "<body>\n",
              "    <div>            <script src=\"https://cdnjs.cloudflare.com/ajax/libs/mathjax/2.7.5/MathJax.js?config=TeX-AMS-MML_SVG\"></script><script type=\"text/javascript\">if (window.MathJax && window.MathJax.Hub && window.MathJax.Hub.Config) {window.MathJax.Hub.Config({SVG: {font: \"STIX-Web\"}});}</script>                <script type=\"text/javascript\">window.PlotlyConfig = {MathJaxConfig: 'local'};</script>\n",
              "        <script src=\"https://cdn.plot.ly/plotly-2.18.2.min.js\"></script>                <div id=\"bfd13ead-3046-4e6e-a11a-619287e71b0c\" class=\"plotly-graph-div\" style=\"height:525px; width:100%;\"></div>            <script type=\"text/javascript\">                                    window.PLOTLYENV=window.PLOTLYENV || {};                                    if (document.getElementById(\"bfd13ead-3046-4e6e-a11a-619287e71b0c\")) {                    Plotly.newPlot(                        \"bfd13ead-3046-4e6e-a11a-619287e71b0c\",                        [{\"alignmentgroup\":\"True\",\"hovertemplate\":\"index=%{x}<br>tags=%{y}<extra></extra>\",\"legendgroup\":\"\",\"marker\":{\"color\":\"#636efa\",\"pattern\":{\"shape\":\"\"}},\"name\":\"\",\"offsetgroup\":\"\",\"orientation\":\"v\",\"showlegend\":false,\"textposition\":\"auto\",\"x\":[\"science\",\"education\",\"geography\",\"documentaries\",\"world geography\",\"TED-Ed\",\"real life lore\",\"real life lore maps\",\"real life maps\",\"world map\",\"world map is wrong\",\"world map with countries\",\"world map real size\",\"map of the world\",\"real life lore geography\",\"geography (field of study)\",\"facts you didn\\u2019t know\",\"physics\",\"TED\",\"TED Ed\",\"news\",\"Technology\",\"Facebook\",\"Samsung\",\"Google\",\"Coldfusion\",\"TV\",\"Dagogo\",\"Altraide\",\"Teded\",\"Apple\",\"Tesla\",\"videos\",\"Education\",\"Ted Education\",\"technology\",\"animation\",\"math\",\"veritasium\",\"tom scott\",\"history\",\"tomscott\",\"Science\",\"culture\",\"lifestyle\",\"Business Insider\",\"documentary\",\"Physics\",\"pbs\",\"podcast\",\"learn\",\"journalism\",\"biology\",\"computers\",\"engineering\",\"Business News\",\"comedy\",\"viral videos\",\"interviews\",\"charismaoncommand\",\"exclusives\",\"viral\",\"pbs digital studios\",\"lad bible\",\"the lad bible\",\"interview\",\"philosophy\",\"bible\",\"mikhail varshavski\",\"joe hanson\",\"doctor mike\",\"dr mike\",\"it's okay to be smart\",\"its ok to be smart\",\"it's ok to be smart\",\"computer\",\"its okay to be smart\",\"lad\",\"charisma on command\",\"dr. mike\",\"Johnny Harris\",\"Vox Borders\",\"Johnny Harris Vox Borders\",\"brain\",\"charisma\",\"mike varshavski\",\"vice\",\"Johnny Harris Vox\",\"world\",\"Quantum Mechanics\",\"wired\",\"big think\",\"History\",\"Vox\",\"outlaw\",\"bigthink\",\"Math\",\"vice videos\",\"Mental Outlaw\",\"mental\",\"politics\",\"VICE News\",\"VICE on HBO\",\"vice.com\",\"doctor mikhail varshavski\",\"drmike\",\"exclusive\",\"Educational Videos\",\"economics\",\"Faster smarter\",\"Videos\",\"vice guide\",\"underground\",\"vice video\",\"independent\",\"VICE News Tonight\",\"explainer\",\"Documentary\",\"neuroscience\",\"linguistics\",\"Wisecrack Edition\",\"funny\",\"how to\",\"Wisecrack\",\"video essay\",\"Show Me the Meaning\",\"Wisecasts\",\"Film analysis\",\"china\",\"vice mag\",\"health\",\"vice magazine\",\"maths\",\"russia\",\"psychology\",\"Tutorial\",\"explain\",\"docs\",\"climate change\",\"film\",\"charlie houpert\",\"coc\",\"mathematics\",\"nature\",\"vox\",\"movies\",\"learning\",\"VICE on SHOWTIME\",\"What Went Wrong\",\"hacking\",\"information security\",\"gaming\",\"Asia\",\"SciShow\",\"answers with joe\",\"Interesting\",\"bbc\",\"joe scott\",\"Geography\",\"money\",\"bbc news\",\"VISUALPOLITIK\",\"ENGLISH\",\"economics explained\",\"vsauce\",\"andrew huberman\",\"Vox.com\",\"TEDxTalks\",\"English\",\"Russia\",\"computer science\",\"doctor reacts\",\"funny videos\",\"taste test\",\"short films\"],\"xaxis\":\"x\",\"y\":[136,66,52,46,45,45,45,45,45,45,45,45,45,45,45,45,45,44,44,41,40,37,35,35,35,34,34,34,34,34,34,34,34,34,33,32,32,31,31,30,29,28,28,26,26,25,25,25,23,23,23,23,23,22,22,22,22,21,21,20,20,20,20,20,20,20,20,19,19,19,19,19,19,19,19,19,19,19,19,18,18,18,18,18,18,18,18,18,18,17,17,17,17,17,17,17,17,17,17,17,16,16,16,16,16,16,15,15,15,15,15,15,15,15,15,15,15,15,15,15,14,14,14,14,14,14,14,14,14,14,14,14,14,14,14,14,14,14,14,14,14,14,13,13,13,13,13,13,13,12,12,12,12,12,12,12,12,12,12,12,12,11,11,11,11,11,11,11,11,11,11,11,11,11,11],\"yaxis\":\"y\",\"type\":\"bar\"}],                        {\"template\":{\"data\":{\"histogram2dcontour\":[{\"type\":\"histogram2dcontour\",\"colorbar\":{\"outlinewidth\":0,\"ticks\":\"\"},\"colorscale\":[[0.0,\"#0d0887\"],[0.1111111111111111,\"#46039f\"],[0.2222222222222222,\"#7201a8\"],[0.3333333333333333,\"#9c179e\"],[0.4444444444444444,\"#bd3786\"],[0.5555555555555556,\"#d8576b\"],[0.6666666666666666,\"#ed7953\"],[0.7777777777777778,\"#fb9f3a\"],[0.8888888888888888,\"#fdca26\"],[1.0,\"#f0f921\"]]}],\"choropleth\":[{\"type\":\"choropleth\",\"colorbar\":{\"outlinewidth\":0,\"ticks\":\"\"}}],\"histogram2d\":[{\"type\":\"histogram2d\",\"colorbar\":{\"outlinewidth\":0,\"ticks\":\"\"},\"colorscale\":[[0.0,\"#0d0887\"],[0.1111111111111111,\"#46039f\"],[0.2222222222222222,\"#7201a8\"],[0.3333333333333333,\"#9c179e\"],[0.4444444444444444,\"#bd3786\"],[0.5555555555555556,\"#d8576b\"],[0.6666666666666666,\"#ed7953\"],[0.7777777777777778,\"#fb9f3a\"],[0.8888888888888888,\"#fdca26\"],[1.0,\"#f0f921\"]]}],\"heatmap\":[{\"type\":\"heatmap\",\"colorbar\":{\"outlinewidth\":0,\"ticks\":\"\"},\"colorscale\":[[0.0,\"#0d0887\"],[0.1111111111111111,\"#46039f\"],[0.2222222222222222,\"#7201a8\"],[0.3333333333333333,\"#9c179e\"],[0.4444444444444444,\"#bd3786\"],[0.5555555555555556,\"#d8576b\"],[0.6666666666666666,\"#ed7953\"],[0.7777777777777778,\"#fb9f3a\"],[0.8888888888888888,\"#fdca26\"],[1.0,\"#f0f921\"]]}],\"heatmapgl\":[{\"type\":\"heatmapgl\",\"colorbar\":{\"outlinewidth\":0,\"ticks\":\"\"},\"colorscale\":[[0.0,\"#0d0887\"],[0.1111111111111111,\"#46039f\"],[0.2222222222222222,\"#7201a8\"],[0.3333333333333333,\"#9c179e\"],[0.4444444444444444,\"#bd3786\"],[0.5555555555555556,\"#d8576b\"],[0.6666666666666666,\"#ed7953\"],[0.7777777777777778,\"#fb9f3a\"],[0.8888888888888888,\"#fdca26\"],[1.0,\"#f0f921\"]]}],\"contourcarpet\":[{\"type\":\"contourcarpet\",\"colorbar\":{\"outlinewidth\":0,\"ticks\":\"\"}}],\"contour\":[{\"type\":\"contour\",\"colorbar\":{\"outlinewidth\":0,\"ticks\":\"\"},\"colorscale\":[[0.0,\"#0d0887\"],[0.1111111111111111,\"#46039f\"],[0.2222222222222222,\"#7201a8\"],[0.3333333333333333,\"#9c179e\"],[0.4444444444444444,\"#bd3786\"],[0.5555555555555556,\"#d8576b\"],[0.6666666666666666,\"#ed7953\"],[0.7777777777777778,\"#fb9f3a\"],[0.8888888888888888,\"#fdca26\"],[1.0,\"#f0f921\"]]}],\"surface\":[{\"type\":\"surface\",\"colorbar\":{\"outlinewidth\":0,\"ticks\":\"\"},\"colorscale\":[[0.0,\"#0d0887\"],[0.1111111111111111,\"#46039f\"],[0.2222222222222222,\"#7201a8\"],[0.3333333333333333,\"#9c179e\"],[0.4444444444444444,\"#bd3786\"],[0.5555555555555556,\"#d8576b\"],[0.6666666666666666,\"#ed7953\"],[0.7777777777777778,\"#fb9f3a\"],[0.8888888888888888,\"#fdca26\"],[1.0,\"#f0f921\"]]}],\"mesh3d\":[{\"type\":\"mesh3d\",\"colorbar\":{\"outlinewidth\":0,\"ticks\":\"\"}}],\"scatter\":[{\"fillpattern\":{\"fillmode\":\"overlay\",\"size\":10,\"solidity\":0.2},\"type\":\"scatter\"}],\"parcoords\":[{\"type\":\"parcoords\",\"line\":{\"colorbar\":{\"outlinewidth\":0,\"ticks\":\"\"}}}],\"scatterpolargl\":[{\"type\":\"scatterpolargl\",\"marker\":{\"colorbar\":{\"outlinewidth\":0,\"ticks\":\"\"}}}],\"bar\":[{\"error_x\":{\"color\":\"#2a3f5f\"},\"error_y\":{\"color\":\"#2a3f5f\"},\"marker\":{\"line\":{\"color\":\"#E5ECF6\",\"width\":0.5},\"pattern\":{\"fillmode\":\"overlay\",\"size\":10,\"solidity\":0.2}},\"type\":\"bar\"}],\"scattergeo\":[{\"type\":\"scattergeo\",\"marker\":{\"colorbar\":{\"outlinewidth\":0,\"ticks\":\"\"}}}],\"scatterpolar\":[{\"type\":\"scatterpolar\",\"marker\":{\"colorbar\":{\"outlinewidth\":0,\"ticks\":\"\"}}}],\"histogram\":[{\"marker\":{\"pattern\":{\"fillmode\":\"overlay\",\"size\":10,\"solidity\":0.2}},\"type\":\"histogram\"}],\"scattergl\":[{\"type\":\"scattergl\",\"marker\":{\"colorbar\":{\"outlinewidth\":0,\"ticks\":\"\"}}}],\"scatter3d\":[{\"type\":\"scatter3d\",\"line\":{\"colorbar\":{\"outlinewidth\":0,\"ticks\":\"\"}},\"marker\":{\"colorbar\":{\"outlinewidth\":0,\"ticks\":\"\"}}}],\"scattermapbox\":[{\"type\":\"scattermapbox\",\"marker\":{\"colorbar\":{\"outlinewidth\":0,\"ticks\":\"\"}}}],\"scatterternary\":[{\"type\":\"scatterternary\",\"marker\":{\"colorbar\":{\"outlinewidth\":0,\"ticks\":\"\"}}}],\"scattercarpet\":[{\"type\":\"scattercarpet\",\"marker\":{\"colorbar\":{\"outlinewidth\":0,\"ticks\":\"\"}}}],\"carpet\":[{\"aaxis\":{\"endlinecolor\":\"#2a3f5f\",\"gridcolor\":\"white\",\"linecolor\":\"white\",\"minorgridcolor\":\"white\",\"startlinecolor\":\"#2a3f5f\"},\"baxis\":{\"endlinecolor\":\"#2a3f5f\",\"gridcolor\":\"white\",\"linecolor\":\"white\",\"minorgridcolor\":\"white\",\"startlinecolor\":\"#2a3f5f\"},\"type\":\"carpet\"}],\"table\":[{\"cells\":{\"fill\":{\"color\":\"#EBF0F8\"},\"line\":{\"color\":\"white\"}},\"header\":{\"fill\":{\"color\":\"#C8D4E3\"},\"line\":{\"color\":\"white\"}},\"type\":\"table\"}],\"barpolar\":[{\"marker\":{\"line\":{\"color\":\"#E5ECF6\",\"width\":0.5},\"pattern\":{\"fillmode\":\"overlay\",\"size\":10,\"solidity\":0.2}},\"type\":\"barpolar\"}],\"pie\":[{\"automargin\":true,\"type\":\"pie\"}]},\"layout\":{\"autotypenumbers\":\"strict\",\"colorway\":[\"#636efa\",\"#EF553B\",\"#00cc96\",\"#ab63fa\",\"#FFA15A\",\"#19d3f3\",\"#FF6692\",\"#B6E880\",\"#FF97FF\",\"#FECB52\"],\"font\":{\"color\":\"#2a3f5f\"},\"hovermode\":\"closest\",\"hoverlabel\":{\"align\":\"left\"},\"paper_bgcolor\":\"white\",\"plot_bgcolor\":\"#E5ECF6\",\"polar\":{\"bgcolor\":\"#E5ECF6\",\"angularaxis\":{\"gridcolor\":\"white\",\"linecolor\":\"white\",\"ticks\":\"\"},\"radialaxis\":{\"gridcolor\":\"white\",\"linecolor\":\"white\",\"ticks\":\"\"}},\"ternary\":{\"bgcolor\":\"#E5ECF6\",\"aaxis\":{\"gridcolor\":\"white\",\"linecolor\":\"white\",\"ticks\":\"\"},\"baxis\":{\"gridcolor\":\"white\",\"linecolor\":\"white\",\"ticks\":\"\"},\"caxis\":{\"gridcolor\":\"white\",\"linecolor\":\"white\",\"ticks\":\"\"}},\"coloraxis\":{\"colorbar\":{\"outlinewidth\":0,\"ticks\":\"\"}},\"colorscale\":{\"sequential\":[[0.0,\"#0d0887\"],[0.1111111111111111,\"#46039f\"],[0.2222222222222222,\"#7201a8\"],[0.3333333333333333,\"#9c179e\"],[0.4444444444444444,\"#bd3786\"],[0.5555555555555556,\"#d8576b\"],[0.6666666666666666,\"#ed7953\"],[0.7777777777777778,\"#fb9f3a\"],[0.8888888888888888,\"#fdca26\"],[1.0,\"#f0f921\"]],\"sequentialminus\":[[0.0,\"#0d0887\"],[0.1111111111111111,\"#46039f\"],[0.2222222222222222,\"#7201a8\"],[0.3333333333333333,\"#9c179e\"],[0.4444444444444444,\"#bd3786\"],[0.5555555555555556,\"#d8576b\"],[0.6666666666666666,\"#ed7953\"],[0.7777777777777778,\"#fb9f3a\"],[0.8888888888888888,\"#fdca26\"],[1.0,\"#f0f921\"]],\"diverging\":[[0,\"#8e0152\"],[0.1,\"#c51b7d\"],[0.2,\"#de77ae\"],[0.3,\"#f1b6da\"],[0.4,\"#fde0ef\"],[0.5,\"#f7f7f7\"],[0.6,\"#e6f5d0\"],[0.7,\"#b8e186\"],[0.8,\"#7fbc41\"],[0.9,\"#4d9221\"],[1,\"#276419\"]]},\"xaxis\":{\"gridcolor\":\"white\",\"linecolor\":\"white\",\"ticks\":\"\",\"title\":{\"standoff\":15},\"zerolinecolor\":\"white\",\"automargin\":true,\"zerolinewidth\":2},\"yaxis\":{\"gridcolor\":\"white\",\"linecolor\":\"white\",\"ticks\":\"\",\"title\":{\"standoff\":15},\"zerolinecolor\":\"white\",\"automargin\":true,\"zerolinewidth\":2},\"scene\":{\"xaxis\":{\"backgroundcolor\":\"#E5ECF6\",\"gridcolor\":\"white\",\"linecolor\":\"white\",\"showbackground\":true,\"ticks\":\"\",\"zerolinecolor\":\"white\",\"gridwidth\":2},\"yaxis\":{\"backgroundcolor\":\"#E5ECF6\",\"gridcolor\":\"white\",\"linecolor\":\"white\",\"showbackground\":true,\"ticks\":\"\",\"zerolinecolor\":\"white\",\"gridwidth\":2},\"zaxis\":{\"backgroundcolor\":\"#E5ECF6\",\"gridcolor\":\"white\",\"linecolor\":\"white\",\"showbackground\":true,\"ticks\":\"\",\"zerolinecolor\":\"white\",\"gridwidth\":2}},\"shapedefaults\":{\"line\":{\"color\":\"#2a3f5f\"}},\"annotationdefaults\":{\"arrowcolor\":\"#2a3f5f\",\"arrowhead\":0,\"arrowwidth\":1},\"geo\":{\"bgcolor\":\"white\",\"landcolor\":\"#E5ECF6\",\"subunitcolor\":\"white\",\"showland\":true,\"showlakes\":true,\"lakecolor\":\"white\"},\"title\":{\"x\":0.05},\"mapbox\":{\"style\":\"light\"}}},\"xaxis\":{\"anchor\":\"y\",\"domain\":[0.0,1.0],\"title\":{\"text\":\"index\"}},\"yaxis\":{\"anchor\":\"x\",\"domain\":[0.0,1.0],\"title\":{\"text\":\"tags\"}},\"legend\":{\"tracegroupgap\":0},\"margin\":{\"t\":60},\"barmode\":\"relative\",\"bargap\":0.2},                        {\"responsive\": true}                    ).then(function(){\n",
              "                            \n",
              "var gd = document.getElementById('bfd13ead-3046-4e6e-a11a-619287e71b0c');\n",
              "var x = new MutationObserver(function (mutations, observer) {{\n",
              "        var display = window.getComputedStyle(gd).display;\n",
              "        if (!display || display === 'none') {{\n",
              "            console.log([gd, 'removed!']);\n",
              "            Plotly.purge(gd);\n",
              "            observer.disconnect();\n",
              "        }}\n",
              "}});\n",
              "\n",
              "// Listen for the removal of the full notebook cells\n",
              "var notebookContainer = gd.closest('#notebook-container');\n",
              "if (notebookContainer) {{\n",
              "    x.observe(notebookContainer, {childList: true});\n",
              "}}\n",
              "\n",
              "// Listen for the clearing of the current output cell\n",
              "var outputEl = gd.closest('.output');\n",
              "if (outputEl) {{\n",
              "    x.observe(outputEl, {childList: true});\n",
              "}}\n",
              "\n",
              "                        })                };                            </script>        </div>\n",
              "</body>\n",
              "</html>"
            ]
          },
          "metadata": {}
        }
      ]
    },
    {
      "cell_type": "code",
      "source": [
        "# Why are there so many history tags?\n",
        "history_tags = ['geography', 'geography (field of study)', 'world geography', 'map of the world', 'world map real size', 'world map with countries', 'world map', 'real life maps', 'real life lore geography', 'real life lore maps', 'world map is wrong']\n",
        "\n",
        "# Query the Series to filter rows containing history tags\n",
        "query_result = df_public_most_frequent['tags'].apply(lambda x: any(item in x for item in history_tags))\n",
        "\n",
        "# Filter the Series based on the query result\n",
        "filtered_series = df_public_most_frequent['tags'][query_result]\n",
        "\n",
        "# Check channels with the history tags\n",
        "df_public_most_frequent.loc[filtered_series.index]['uploader'].unique()"
      ],
      "metadata": {
        "colab": {
          "base_uri": "https://localhost:8080/"
        },
        "id": "CXJkd5cahDFW",
        "outputId": "b891bb39-a38b-405a-f239-6c605924e0f0"
      },
      "execution_count": 13,
      "outputs": [
        {
          "output_type": "execute_result",
          "data": {
            "text/plain": [
              "array(['RealLifeLore', 'Be Smart', 'Wendover Productions',\n",
              "       'Half as Interesting'], dtype=object)"
            ]
          },
          "metadata": {},
          "execution_count": 13
        }
      ]
    },
    {
      "cell_type": "markdown",
      "source": [
        "### Notes about tags:\n",
        "\n",
        "* Maybe tags shouldn't be used for analysis as there would be a lot of duplicates.\n",
        "\n",
        "* Maybe for future analysis cleaning can be done to remove these duplicates and a meaning column can be derived for analysis?"
      ],
      "metadata": {
        "id": "HZOqVFpPecbD"
      }
    },
    {
      "cell_type": "markdown",
      "source": [
        "### Transformers to find similarity between video titles"
      ],
      "metadata": {
        "id": "yuBVee7YhKYq"
      }
    },
    {
      "cell_type": "code",
      "source": [
        "def get_device_based_on_cuda_availability() -> torch.device:\n",
        "    \"\"\"Get the appropriate device based on the availability of CUDA.\n",
        "\n",
        "    Returns\n",
        "    -------\n",
        "    torch.device\n",
        "        The selected device (cuda or cpu).\n",
        "    \"\"\"\n",
        "    return torch.device(\"cuda\" if torch.cuda.is_available() else \"cpu\")\n",
        "\n",
        "def move_model_to_device(model: torch.nn.Module) -> torch.nn.Module:\n",
        "    \"\"\"Moves the given model to the appropriate device based on the availability of CUDA.\n",
        "\n",
        "    Parameters\n",
        "    ----------\n",
        "    model : torch.nn.Module\n",
        "        The model to be moved to the device.\n",
        "\n",
        "    Returns\n",
        "    -------\n",
        "    torch.nn.Module\n",
        "        The model moved to the selected device.\n",
        "    \"\"\"\n",
        "    return model.to(get_device_based_on_cuda_availability())\n",
        "\n",
        "def encode_texts(texts: pd.Series,\n",
        "                 tokenizer: PreTrainedTokenizer,\n",
        "                 model: PreTrainedModel,\n",
        "                 batch_size: int = 16) -> np.ndarray:\n",
        "    \"\"\"Encode the given texts using a tokenizer and model.\n",
        "\n",
        "    Parameters\n",
        "    ----------\n",
        "    texts : list of str\n",
        "        The texts to encode.\n",
        "    tokenizer : PreTrainedTokenizer\n",
        "        The tokenizer to use for encoding.\n",
        "    model : PreTrainedModel\n",
        "        The model to use for encoding.\n",
        "    batch_size : int, default 16\n",
        "        The batch size for encoding, by default 16.\n",
        "\n",
        "    Returns\n",
        "    -------\n",
        "    pd.DataFrame\n",
        "        The DataFrame containing the encoded texts and their similarity results.\n",
        "    \"\"\"\n",
        "    encoded_inputs = tokenizer.batch_encode_plus(\n",
        "        texts.tolist(),\n",
        "        padding=True,\n",
        "        truncation=True,\n",
        "        return_tensors='pt'\n",
        "    )\n",
        "    input_ids = move_model_to_device(encoded_inputs[\"input_ids\"])\n",
        "    attention_mask = move_model_to_device(encoded_inputs[\"attention_mask\"])\n",
        "\n",
        "    with torch.no_grad():\n",
        "        try:\n",
        "            outputs = model(input_ids=input_ids, attention_mask=attention_mask)\n",
        "            embeddings = outputs.last_hidden_state[:, 0, :].cpu().numpy()\n",
        "            return embeddings\n",
        "        except Exception as e:\n",
        "            raise RuntimeError(f\"Error occurred during encoding: {str(e)}\")\n",
        "\n",
        "def find_top_similar_texts(texts: pd.Series,\n",
        "                           similarity_scores: np.ndarray,\n",
        "                           threshold: float):\n",
        "    \"\"\"Find the top similar texts based on similarity scores.\n",
        "\n",
        "    Parameters\n",
        "    ----------\n",
        "    texts : pd.Series\n",
        "        The original texts.\n",
        "    similarity_scores : pd.DataFrame\n",
        "        The similarity scores between the texts.\n",
        "    threshold : float\n",
        "        The similarity threshold for considering texts as similar.\n",
        "\n",
        "    Returns\n",
        "    -------\n",
        "    list\n",
        "        The list of dictionaries containing the top similar texts and their similarity scores.\n",
        "    \"\"\"\n",
        "    results = []\n",
        "    for i, text in enumerate(texts):\n",
        "        scores = similarity_scores[i, :]\n",
        "        top_indices = scores.argsort()[::-1]\n",
        "        top_scores = scores[top_indices]\n",
        "        top_texts = texts.iloc[top_indices]\n",
        "\n",
        "        text_results = {\n",
        "            'Text': text,\n",
        "            'Similarity': [],\n",
        "            'Top Text': []\n",
        "        }\n",
        "\n",
        "        for j in range(1, len(top_texts)):\n",
        "            idx = top_indices[j]\n",
        "            score = top_scores[j]\n",
        "            top_text = top_texts.iloc[j]\n",
        "            if idx != i and score > threshold:\n",
        "                text_results['Similarity'].append(score)\n",
        "                text_results['Top Text'].append(top_text)\n",
        "\n",
        "        if text_results['Similarity']:\n",
        "            results.append(text_results)\n",
        "\n",
        "    return results"
      ],
      "metadata": {
        "id": "hpz8pGTqmHrp"
      },
      "execution_count": 28,
      "outputs": []
    },
    {
      "cell_type": "code",
      "source": [
        "# Example pandas series\n",
        "texts = df['title']\n",
        "\n",
        "# Load pre-trained DistilBERT model and tokenizer\n",
        "tokenizer = AutoTokenizer.from_pretrained(\"bert-base-uncased\")\n",
        "model = AutoModel.from_pretrained(\"bert-base-uncased\")\n",
        "move_model_to_device(model)\n",
        "\n",
        "threshold = 0.97  # Similarity threshold\n",
        "\n",
        "try:\n",
        "    embeddings = encode_texts(texts, tokenizer=tokenizer, model=model)\n",
        "    if embeddings is not None:\n",
        "        similarity_scores = cosine_similarity(embeddings)\n",
        "        results = find_top_similar_texts(texts, similarity_scores, threshold)\n",
        "\n",
        "        # Create DataFrame from results dictionary\n",
        "        df_results = pd.DataFrame(results)\n",
        "    else:\n",
        "        print(\"Text encoding failed.\")\n",
        "except RuntimeError as e:\n",
        "    print(f\"Error occurred: {str(e)}\")"
      ],
      "metadata": {
        "colab": {
          "base_uri": "https://localhost:8080/"
        },
        "id": "tCa7SMqfiOOi",
        "outputId": "a5317bd5-6db9-4674-f34a-76dbea3f314b"
      },
      "execution_count": 29,
      "outputs": [
        {
          "output_type": "stream",
          "name": "stderr",
          "text": [
            "Some weights of the model checkpoint at bert-base-uncased were not used when initializing BertModel: ['cls.seq_relationship.weight', 'cls.predictions.transform.LayerNorm.bias', 'cls.predictions.bias', 'cls.predictions.transform.LayerNorm.weight', 'cls.predictions.transform.dense.bias', 'cls.seq_relationship.bias', 'cls.predictions.transform.dense.weight']\n",
            "- This IS expected if you are initializing BertModel from the checkpoint of a model trained on another task or with another architecture (e.g. initializing a BertForSequenceClassification model from a BertForPreTraining model).\n",
            "- This IS NOT expected if you are initializing BertModel from the checkpoint of a model that you expect to be exactly identical (initializing a BertForSequenceClassification model from a BertForSequenceClassification model).\n"
          ]
        }
      ]
    },
    {
      "cell_type": "markdown",
      "source": [
        "### Results post-processing"
      ],
      "metadata": {
        "id": "EuMLLXgHh9KS"
      }
    },
    {
      "cell_type": "code",
      "source": [
        "def remove_reciprocal_duplicates(df: PandasDataFrame, cols: List[str]) -> PandasDataFrame:\n",
        "    \"\"\"Remove reciprocal duplicates in a Pandas Dataframe.\n",
        "\n",
        "    Parameters\n",
        "    ----------\n",
        "    df: PandasDataFrame\n",
        "        Input dataframe.\n",
        "    cols: list of str\n",
        "        List of columns to remove duplicates from.\n",
        "\n",
        "    Examples\n",
        "    --------\n",
        "    >>> example_df = pd.DataFrame([['a', 'spider'], [ 'spider', 'a'], ['ant', 'c'], ['d', 'aardvark']], columns=['A', 'B'])\n",
        "    >>> print(example_df)\n",
        "            A         B\n",
        "    0       a    spider\n",
        "    1  spider         a\n",
        "    2     ant         c\n",
        "    3       d  aardvark\n",
        "    >>> remove_reciprocal_duplicates(example_df, ['A', 'B'])\n",
        "         A         B\n",
        "    0    a    spider\n",
        "    2  ant         c\n",
        "    3    d  aardvark\n",
        "    \"\"\"\n",
        "    type_col1 = pd.api.types.infer_dtype(df[cols[0]])\n",
        "    type_col2 = pd.api.types.infer_dtype(df[cols[1]])\n",
        "    if type_col1 != type_col2:\n",
        "        raise ValueError('Unequal data types')\n",
        "    if type_col1.startswith('mixed'):\n",
        "        raise ValueError('Does not work for mixed data types')\n",
        "    transpose_and_sort = (df[cols].T.apply(sorted).T)\n",
        "    duplicate_sorted_columns = transpose_and_sort.duplicated()\n",
        "    return df.loc[~duplicate_sorted_columns]"
      ],
      "metadata": {
        "id": "dNAEJBAPV1FC"
      },
      "execution_count": 17,
      "outputs": []
    },
    {
      "cell_type": "code",
      "source": [
        "df_results_exploded = df_results.explode(['Similarity', 'Top Text']).reset_index(drop=True)"
      ],
      "metadata": {
        "id": "1h_LnUNpcD3i"
      },
      "execution_count": 30,
      "outputs": []
    },
    {
      "cell_type": "code",
      "source": [
        "# We can assess de-duplicated results now\n",
        "remove_reciprocal_duplicates(df_results_exploded, ['Text', 'Top Text']).reset_index(drop=True)"
      ],
      "metadata": {
        "colab": {
          "base_uri": "https://localhost:8080/",
          "height": 424
        },
        "id": "e3xi-zRzciEl",
        "outputId": "60a5e9ea-4429-431e-d80b-324c997919c5"
      },
      "execution_count": 31,
      "outputs": [
        {
          "output_type": "execute_result",
          "data": {
            "text/plain": [
              "                                                 Text Similarity  \\\n",
              "0              What Low Testosterone Does to the Body    0.98638   \n",
              "1              What Low Testosterone Does to the Body   0.970925   \n",
              "2       What The Internet Gets Wrong About Philosophy   0.970553   \n",
              "3            The Argument from Improbability DEBUNKED   0.978391   \n",
              "4            The Argument from Improbability DEBUNKED   0.976283   \n",
              "..                                                ...        ...   \n",
              "239  What Megalodon’s Teeth Say About Their Parenting   0.983644   \n",
              "240  What Megalodon’s Teeth Say About Their Parenting   0.974401   \n",
              "241                                  I Was Challenged   0.972628   \n",
              "242              How Not To Die From A Cardiac Arrest   0.975998   \n",
              "243                               What is NOT Random?    0.97867   \n",
              "\n",
              "                                             Top Text  \n",
              "0                  What Testosterone Does to the Body  \n",
              "1                  What Sugar Really Does to the Body  \n",
              "2    Why you don’t hear about the ozone layer anymore  \n",
              "3                      The Truth About Declawing Cats  \n",
              "4                   The hidden history of “Hand Talk”  \n",
              "..                                                ...  \n",
              "239                            How the Egg Came First  \n",
              "240                                  I Was Challenged  \n",
              "241                            How the Egg Came First  \n",
              "242                 How Not To Die From Electrocution  \n",
              "243                                What Is A Paradox?  \n",
              "\n",
              "[244 rows x 3 columns]"
            ],
            "text/html": [
              "\n",
              "  <div id=\"df-8f7b8faf-4483-4d68-ba97-2967dfa1438f\">\n",
              "    <div class=\"colab-df-container\">\n",
              "      <div>\n",
              "<style scoped>\n",
              "    .dataframe tbody tr th:only-of-type {\n",
              "        vertical-align: middle;\n",
              "    }\n",
              "\n",
              "    .dataframe tbody tr th {\n",
              "        vertical-align: top;\n",
              "    }\n",
              "\n",
              "    .dataframe thead th {\n",
              "        text-align: right;\n",
              "    }\n",
              "</style>\n",
              "<table border=\"1\" class=\"dataframe\">\n",
              "  <thead>\n",
              "    <tr style=\"text-align: right;\">\n",
              "      <th></th>\n",
              "      <th>Text</th>\n",
              "      <th>Similarity</th>\n",
              "      <th>Top Text</th>\n",
              "    </tr>\n",
              "  </thead>\n",
              "  <tbody>\n",
              "    <tr>\n",
              "      <th>0</th>\n",
              "      <td>What Low Testosterone Does to the Body</td>\n",
              "      <td>0.98638</td>\n",
              "      <td>What Testosterone Does to the Body</td>\n",
              "    </tr>\n",
              "    <tr>\n",
              "      <th>1</th>\n",
              "      <td>What Low Testosterone Does to the Body</td>\n",
              "      <td>0.970925</td>\n",
              "      <td>What Sugar Really Does to the Body</td>\n",
              "    </tr>\n",
              "    <tr>\n",
              "      <th>2</th>\n",
              "      <td>What The Internet Gets Wrong About Philosophy</td>\n",
              "      <td>0.970553</td>\n",
              "      <td>Why you don’t hear about the ozone layer anymore</td>\n",
              "    </tr>\n",
              "    <tr>\n",
              "      <th>3</th>\n",
              "      <td>The Argument from Improbability DEBUNKED</td>\n",
              "      <td>0.978391</td>\n",
              "      <td>The Truth About Declawing Cats</td>\n",
              "    </tr>\n",
              "    <tr>\n",
              "      <th>4</th>\n",
              "      <td>The Argument from Improbability DEBUNKED</td>\n",
              "      <td>0.976283</td>\n",
              "      <td>The hidden history of “Hand Talk”</td>\n",
              "    </tr>\n",
              "    <tr>\n",
              "      <th>...</th>\n",
              "      <td>...</td>\n",
              "      <td>...</td>\n",
              "      <td>...</td>\n",
              "    </tr>\n",
              "    <tr>\n",
              "      <th>239</th>\n",
              "      <td>What Megalodon’s Teeth Say About Their Parenting</td>\n",
              "      <td>0.983644</td>\n",
              "      <td>How the Egg Came First</td>\n",
              "    </tr>\n",
              "    <tr>\n",
              "      <th>240</th>\n",
              "      <td>What Megalodon’s Teeth Say About Their Parenting</td>\n",
              "      <td>0.974401</td>\n",
              "      <td>I Was Challenged</td>\n",
              "    </tr>\n",
              "    <tr>\n",
              "      <th>241</th>\n",
              "      <td>I Was Challenged</td>\n",
              "      <td>0.972628</td>\n",
              "      <td>How the Egg Came First</td>\n",
              "    </tr>\n",
              "    <tr>\n",
              "      <th>242</th>\n",
              "      <td>How Not To Die From A Cardiac Arrest</td>\n",
              "      <td>0.975998</td>\n",
              "      <td>How Not To Die From Electrocution</td>\n",
              "    </tr>\n",
              "    <tr>\n",
              "      <th>243</th>\n",
              "      <td>What is NOT Random?</td>\n",
              "      <td>0.97867</td>\n",
              "      <td>What Is A Paradox?</td>\n",
              "    </tr>\n",
              "  </tbody>\n",
              "</table>\n",
              "<p>244 rows × 3 columns</p>\n",
              "</div>\n",
              "      <button class=\"colab-df-convert\" onclick=\"convertToInteractive('df-8f7b8faf-4483-4d68-ba97-2967dfa1438f')\"\n",
              "              title=\"Convert this dataframe to an interactive table.\"\n",
              "              style=\"display:none;\">\n",
              "        \n",
              "  <svg xmlns=\"http://www.w3.org/2000/svg\" height=\"24px\"viewBox=\"0 0 24 24\"\n",
              "       width=\"24px\">\n",
              "    <path d=\"M0 0h24v24H0V0z\" fill=\"none\"/>\n",
              "    <path d=\"M18.56 5.44l.94 2.06.94-2.06 2.06-.94-2.06-.94-.94-2.06-.94 2.06-2.06.94zm-11 1L8.5 8.5l.94-2.06 2.06-.94-2.06-.94L8.5 2.5l-.94 2.06-2.06.94zm10 10l.94 2.06.94-2.06 2.06-.94-2.06-.94-.94-2.06-.94 2.06-2.06.94z\"/><path d=\"M17.41 7.96l-1.37-1.37c-.4-.4-.92-.59-1.43-.59-.52 0-1.04.2-1.43.59L10.3 9.45l-7.72 7.72c-.78.78-.78 2.05 0 2.83L4 21.41c.39.39.9.59 1.41.59.51 0 1.02-.2 1.41-.59l7.78-7.78 2.81-2.81c.8-.78.8-2.07 0-2.86zM5.41 20L4 18.59l7.72-7.72 1.47 1.35L5.41 20z\"/>\n",
              "  </svg>\n",
              "      </button>\n",
              "      \n",
              "  <style>\n",
              "    .colab-df-container {\n",
              "      display:flex;\n",
              "      flex-wrap:wrap;\n",
              "      gap: 12px;\n",
              "    }\n",
              "\n",
              "    .colab-df-convert {\n",
              "      background-color: #E8F0FE;\n",
              "      border: none;\n",
              "      border-radius: 50%;\n",
              "      cursor: pointer;\n",
              "      display: none;\n",
              "      fill: #1967D2;\n",
              "      height: 32px;\n",
              "      padding: 0 0 0 0;\n",
              "      width: 32px;\n",
              "    }\n",
              "\n",
              "    .colab-df-convert:hover {\n",
              "      background-color: #E2EBFA;\n",
              "      box-shadow: 0px 1px 2px rgba(60, 64, 67, 0.3), 0px 1px 3px 1px rgba(60, 64, 67, 0.15);\n",
              "      fill: #174EA6;\n",
              "    }\n",
              "\n",
              "    [theme=dark] .colab-df-convert {\n",
              "      background-color: #3B4455;\n",
              "      fill: #D2E3FC;\n",
              "    }\n",
              "\n",
              "    [theme=dark] .colab-df-convert:hover {\n",
              "      background-color: #434B5C;\n",
              "      box-shadow: 0px 1px 3px 1px rgba(0, 0, 0, 0.15);\n",
              "      filter: drop-shadow(0px 1px 2px rgba(0, 0, 0, 0.3));\n",
              "      fill: #FFFFFF;\n",
              "    }\n",
              "  </style>\n",
              "\n",
              "      <script>\n",
              "        const buttonEl =\n",
              "          document.querySelector('#df-8f7b8faf-4483-4d68-ba97-2967dfa1438f button.colab-df-convert');\n",
              "        buttonEl.style.display =\n",
              "          google.colab.kernel.accessAllowed ? 'block' : 'none';\n",
              "\n",
              "        async function convertToInteractive(key) {\n",
              "          const element = document.querySelector('#df-8f7b8faf-4483-4d68-ba97-2967dfa1438f');\n",
              "          const dataTable =\n",
              "            await google.colab.kernel.invokeFunction('convertToInteractive',\n",
              "                                                     [key], {});\n",
              "          if (!dataTable) return;\n",
              "\n",
              "          const docLinkHtml = 'Like what you see? Visit the ' +\n",
              "            '<a target=\"_blank\" href=https://colab.research.google.com/notebooks/data_table.ipynb>data table notebook</a>'\n",
              "            + ' to learn more about interactive tables.';\n",
              "          element.innerHTML = '';\n",
              "          dataTable['output_type'] = 'display_data';\n",
              "          await google.colab.output.renderOutput(dataTable, element);\n",
              "          const docLink = document.createElement('div');\n",
              "          docLink.innerHTML = docLinkHtml;\n",
              "          element.appendChild(docLink);\n",
              "        }\n",
              "      </script>\n",
              "    </div>\n",
              "  </div>\n",
              "  "
            ]
          },
          "metadata": {},
          "execution_count": 31
        }
      ]
    },
    {
      "cell_type": "code",
      "source": [
        "# There are potentially 159 categories.\n",
        "df_results_exploded['Text'].nunique()"
      ],
      "metadata": {
        "colab": {
          "base_uri": "https://localhost:8080/"
        },
        "id": "-Ha7Bx9VjpW5",
        "outputId": "66c1e0e7-5aec-436e-f3e5-b9ba2bed14a7"
      },
      "execution_count": 33,
      "outputs": [
        {
          "output_type": "execute_result",
          "data": {
            "text/plain": [
              "159"
            ]
          },
          "metadata": {},
          "execution_count": 33
        }
      ]
    },
    {
      "cell_type": "markdown",
      "source": [
        "### For future development"
      ],
      "metadata": {
        "id": "q14qIFJ1fQXB"
      }
    },
    {
      "cell_type": "code",
      "source": [
        "# some post-processing code for youtube video descriptions\n",
        "def get_stop_words(lan: str = 'english') -> Iterable[str]:\n",
        "    \"\"\"Get nltk stop words for input language.\"\"\"\n",
        "    return nltk.corpus.stopwords.words(lan)\n",
        "\n",
        "def stop_words_regex(stop_words: Iterable[str]) -> str:\n",
        "    \"\"\"Get regex for replacing stop word given stop word list, set or any iterable.\"\"\"\n",
        "    return r'\\b(?:{})\\b'.format('|'.join(stop_words))\n",
        "\n",
        "def remove_english_stop_words(pandas_series: PandasSeries, pattern: str) -> PandasSeries:\n",
        "    \"\"\"Use regex and replace stop words with an empty string for a pandas series.\"\"\"\n",
        "    return pandas_series.str.replace(pattern, '', regex=True, case=False)\n",
        "\n",
        "def remove_links(pandas_series: PandasSeries) -> PandasSeries:\n",
        "    \"\"\"Use regex to remove links from descriptions.\"\"\"\n",
        "    return pandas_series.str.replace('http[s]?://\\S+', '', regex=True)\n",
        "\n",
        "def remove_non_ascii_chars(pandas_series: PandasSeries, pattern: str = f\"[^{string.printable}]\") -> PandasSeries:\n",
        "    \"\"\"Use regex to remove non-ASCII characters.\"\"\"\n",
        "    return pandas_series.str.replace(pattern, \"\", regex=True)\n",
        "\n",
        "# clean the descriptions of youtube videos\n",
        "english_stop_words_regex = stop_words_regex(get_stop_words('english'))\n",
        "df['description_processed'] = (\n",
        "    remove_english_stop_words(\n",
        "        remove_links(\n",
        "            remove_non_ascii_chars(\n",
        "                df['description'])\n",
        "            ), english_stop_words_regex\n",
        "        )\n",
        "    )"
      ],
      "metadata": {
        "id": "_aZHjfFwfSty"
      },
      "execution_count": null,
      "outputs": []
    }
  ]
}